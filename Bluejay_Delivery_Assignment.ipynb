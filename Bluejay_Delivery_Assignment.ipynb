{
  "nbformat": 4,
  "nbformat_minor": 0,
  "metadata": {
    "colab": {
      "provenance": []
    },
    "kernelspec": {
      "name": "python3",
      "display_name": "Python 3"
    },
    "language_info": {
      "name": "python"
    }
  },
  "cells": [
    {
      "cell_type": "markdown",
      "source": [
        "The followinng program takes the ([file](https://docs.google.com/spreadsheets/d/1h5UTYyF4Qi_-qOM8tVtzgrggVHJT9dwR/edit?usp=sharing&ouid=106588699467037776895&rtpof=true&sd=true)) as an input and perform the following operations:"
      ],
      "metadata": {
        "id": "Dc1h0VdJKsKv"
      }
    },
    {
      "cell_type": "markdown",
      "source": [
        "a) Name and position of employees who has worked for 7 consecutive days."
      ],
      "metadata": {
        "id": "7zbY9hoiKkts"
      }
    },
    {
      "cell_type": "code",
      "source": [
        "import pandas as pd\n",
        "\n",
        "# Read the Excel file\n",
        "df = pd.read_excel('/content/Bluejay_Assignment_Timecard.xlsx')\n",
        "\n",
        "# Define a function to calculate the longest consecutive working days\n",
        "def calculate_longest_consecutive_days(group):\n",
        "    group['Time In'] = pd.to_datetime(group['Time In'])\n",
        "    group['Date'] = group['Time In'].dt.date\n",
        "\n",
        "    consecutive_days = 0\n",
        "    max_consecutive_days = 0\n",
        "    prev_date = None\n",
        "\n",
        "    for date in group['Date']:\n",
        "        if prev_date is None:\n",
        "            consecutive_days = 1\n",
        "        elif date == prev_date + pd.Timedelta(days=1):\n",
        "            consecutive_days += 1\n",
        "        elif date == prev_date:\n",
        "            consecutive_days = consecutive_days\n",
        "        else:\n",
        "            consecutive_days = 1\n",
        "\n",
        "        if consecutive_days > max_consecutive_days:\n",
        "            max_consecutive_days = consecutive_days\n",
        "\n",
        "        prev_date = date\n",
        "\n",
        "    return max_consecutive_days\n",
        "\n",
        "# Group the data by 'Employee Name'\n",
        "groups = df.groupby('Employee Name')\n",
        "\n",
        "# Iterate through the groups and filter employees with 7 or more consecutive days worked\n",
        "for name, group in groups:\n",
        "    max_consecutive_days = calculate_longest_consecutive_days(group)\n",
        "    if max_consecutive_days >= 7:\n",
        "        position_id = group['Position ID'].iloc[0]  # Get the Position ID\n",
        "        print(f\"Employee: {name}, Position ID: {position_id}, Consecutive Days Worked: {max_consecutive_days}\")\n"
      ],
      "metadata": {
        "colab": {
          "base_uri": "https://localhost:8080/"
        },
        "id": "ABbjUQNWXCUF",
        "outputId": "57ea0aae-f4b5-415e-96c9-0949534f365d"
      },
      "execution_count": 4,
      "outputs": [
        {
          "output_type": "stream",
          "name": "stdout",
          "text": [
            "Employee: CEreira Jr, JEse, Position ID: WFS000456, Consecutive Days Worked: 8\n",
            "Employee: GAeWdia, JAaW CarXEs, Position ID: WFS000473, Consecutive Days Worked: 8\n",
            "Employee: SiWgh, JaspreeM, Position ID: WFS000424, Consecutive Days Worked: 9\n",
            "Employee: Sparks, KeWWeMh, Position ID: WFS000101, Consecutive Days Worked: 8\n"
          ]
        }
      ]
    },
    {
      "cell_type": "markdown",
      "source": [
        "b) Name and position of employees who have less than 10 hours of time between shifts but greater than 1 hour"
      ],
      "metadata": {
        "id": "TCUusNIoKaXm"
      }
    },
    {
      "cell_type": "code",
      "source": [
        "import pandas as pd\n",
        "\n",
        "# Read the Excel file\n",
        "df = pd.read_excel('/content/Bluejay_Assignment_Timecard.xlsx')\n",
        "\n",
        "# Convert 'Time In' and 'Time Out' columns to datetime objects\n",
        "df['Time In'] = pd.to_datetime(df['Time In'])\n",
        "df['Time Out'] = pd.to_datetime(df['Time Out'])\n",
        "\n",
        "# Sort the dataframe by 'Employee Name' and 'Time In'\n",
        "df.sort_values(by=['Employee Name', 'Time In'], inplace=True)\n",
        "\n",
        "# Calculate the time difference between shifts\n",
        "df['Time Difference'] = df.groupby('Employee Name')['Time In'].shift(0) - df.groupby('Employee Name')['Time Out'].shift(1)\n",
        "\n",
        "# Filter employees with less than 10 hours but greater than 1 hour between shifts\n",
        "filtered_df = df[(df['Time Difference'] < pd.Timedelta(hours=10)) & (df['Time Difference'] > pd.Timedelta(hours=1))]\n",
        "\n",
        "# Group the filtered data by 'Employee Name'\n",
        "groups = filtered_df.groupby('Employee Name')\n",
        "\n",
        "# Print the names of employees, their Position ID, and time differences between shifts\n",
        "for name, group in groups:\n",
        "    position_id = group['Position ID'].iloc[0]  # Get the Position ID\n",
        "    print(f\"Employee: {name}, Position ID: {position_id}, Time Difference between Shifts: \")\n",
        "    for idx, row in group.iterrows():\n",
        "        print(f\"{row['Time Difference']}\")\n"
      ],
      "metadata": {
        "colab": {
          "base_uri": "https://localhost:8080/"
        },
        "id": "Iswk3TenX9p4",
        "outputId": "36006064-aa8e-4e64-b41a-30195e3c9e9f"
      },
      "execution_count": 6,
      "outputs": [
        {
          "output_type": "stream",
          "name": "stdout",
          "text": [
            "Employee: CEreira Jr, JEse, Position ID: WFS000456, Time Difference between Shifts: \n",
            "0 days 04:11:00\n",
            "Employee: CaMaXaWE, CeghaW, Position ID: WFS000153, Time Difference between Shifts: \n",
            "0 days 02:15:00\n",
            "0 days 01:29:00\n",
            "Employee: De Xa Cerda, IgWaciE, Position ID: WFS000318, Time Difference between Shifts: \n",
            "0 days 03:00:24\n",
            "Employee: DeXgadiXXE REdarMe, ChrisMiaW S, Position ID: WFS000523, Time Difference between Shifts: \n",
            "0 days 03:56:49\n",
            "Employee: GrACfieXd, CErWeXiAs, Position ID: WFS000515, Time Difference between Shifts: \n",
            "0 days 01:00:10\n",
            "Employee: HaCiXMEW, DeaWMe DevEW, Position ID: WFS000536, Time Difference between Shifts: \n",
            "0 days 02:40:00\n",
            "Employee: MraW, WiXXiaC Ha, Position ID: WFS000345, Time Difference between Shifts: \n",
            "0 days 09:59:39\n",
            "0 days 09:45:07\n",
            "Employee: REdrigAez, GraWdEW AWgeX, Position ID: WFS000550, Time Difference between Shifts: \n",
            "0 days 01:09:00\n",
            "Employee: Xee, XaCar, Position ID: WFS000200, Time Difference between Shifts: \n",
            "0 days 09:41:00\n",
            "0 days 08:30:00\n",
            "0 days 09:12:00\n"
          ]
        }
      ]
    },
    {
      "cell_type": "markdown",
      "source": [
        "  c) Name and position of employees who has worked for more than 14 hours in a single shift"
      ],
      "metadata": {
        "id": "bdcz60qLKEzy"
      }
    },
    {
      "cell_type": "code",
      "source": [
        "import pandas as pd\n",
        "\n",
        "# Read the Excel file\n",
        "df = pd.read_excel('/content/Bluejay_Assignment_Timecard.xlsx')\n",
        "\n",
        "# Convert 'Time In' and 'Time Out' columns to datetime objects\n",
        "df['Time In'] = pd.to_datetime(df['Time In'])\n",
        "df['Time Out'] = pd.to_datetime(df['Time Out'])\n",
        "\n",
        "# Calculate the time duration for each shift\n",
        "df['Shift Duration'] = df['Time Out'] - df['Time In']\n",
        "\n",
        "# Filter employees who have worked more than 14 hours in a single shift\n",
        "overworked_employees = df[df['Shift Duration'] > pd.Timedelta(hours=14)]\n",
        "\n",
        "# Print the names, Position IDs, and exact duration of work for overworked employees\n",
        "for index, row in overworked_employees.iterrows():\n",
        "    employee_name = row['Employee Name']\n",
        "    position_id = row['Position ID']\n",
        "    duration = row['Shift Duration']\n",
        "    print(f\"Employee: {employee_name}, Position ID: {position_id}, Duration: {duration}.\")\n"
      ],
      "metadata": {
        "colab": {
          "base_uri": "https://localhost:8080/"
        },
        "id": "Zp5Pmwv7fCfC",
        "outputId": "583b6e8d-2e6d-447e-96e6-dbafb5c3b91f"
      },
      "execution_count": 3,
      "outputs": [
        {
          "output_type": "stream",
          "name": "stdout",
          "text": [
            "Employee: DeXgadiXXE REdarMe, ChrisMiaW S, Position ID: WFS000523, Duration: 0 days 15:30:10.\n"
          ]
        }
      ]
    }
  ]
}